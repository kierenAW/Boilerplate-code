{
 "cells": [
  {
   "cell_type": "markdown",
   "id": "510e9736-c18e-4c84-a9b6-0ec546b66efa",
   "metadata": {},
   "source": [
    "# Use Tensorboard from Pytorch\n",
    "\n",
    "Simple demo of how to log with PyTorch \n",
    "\n",
    "Last run with E037\n",
    "\n",
    "- [PyTorch's TensorBoard Documentation](https://pytorch.org/tutorials/recipes/recipes/tensorboard_with_pytorch.html)\n",
    "- [TensorFlow's TensorBoard Documentation](https://www.tensorflow.org/tensorboard)"
   ]
  },
  {
   "cell_type": "code",
   "execution_count": null,
   "id": "fec595bd-9943-4e91-8a08-e2c08fb57658",
   "metadata": {},
   "outputs": [],
   "source": [
    "import torch\n",
    "import numpy as np\n",
    "from torch.utils.tensorboard import SummaryWriter"
   ]
  },
  {
   "cell_type": "markdown",
   "id": "f1436dfb-446e-469b-9feb-befb07b4ced4",
   "metadata": {},
   "source": [
    "### Create writer object\n",
    "Uses auto-generated dir name, wll be something like 'runs/May04_13-20-59_machinename/'"
   ]
  },
  {
   "cell_type": "code",
   "execution_count": null,
   "id": "dcad56ca-2976-4186-8c8e-e135c2c97142",
   "metadata": {},
   "outputs": [],
   "source": [
    "writer = SummaryWriter()"
   ]
  },
  {
   "cell_type": "markdown",
   "id": "1312a7b7-bb68-4b4f-9783-e08796bfc600",
   "metadata": {},
   "source": [
    "## Function to add some random metrics"
   ]
  },
  {
   "cell_type": "code",
   "execution_count": null,
   "id": "a4618962-fb7d-4efa-87a3-2fcd56ec5de9",
   "metadata": {},
   "outputs": [],
   "source": [
    "def add_metrics(step):\n",
    "    writer.add_scalar('train_acc', np.random.random(), step)\n",
    "    writer.add_scalar('test_acc', np.random.random(), step)\n",
    "    writer.add_scalar('train_loss', np.random.random(), step)\n",
    "    writer.add_scalar('test_loss', np.random.random(), step)\n"
   ]
  },
  {
   "cell_type": "markdown",
   "id": "81af5619-dfd0-4dc6-84ea-e842c70b132a",
   "metadata": {},
   "source": [
    "### Add a few steps of metrics"
   ]
  },
  {
   "cell_type": "code",
   "execution_count": null,
   "id": "75ca1446-a275-44c9-b277-1bdb71d46ee8",
   "metadata": {},
   "outputs": [],
   "source": [
    "for idx in range(0,10):\n",
    "    add_metrics(idx)"
   ]
  },
  {
   "cell_type": "markdown",
   "id": "c878e9ca-c278-4afd-af2a-e1a53b1951ac",
   "metadata": {},
   "source": [
    "### Finish writes and close writer"
   ]
  },
  {
   "cell_type": "code",
   "execution_count": null,
   "id": "eb789f1f-17cf-4418-97f0-c1ea87bed9c1",
   "metadata": {},
   "outputs": [],
   "source": [
    "writer.flush()"
   ]
  },
  {
   "cell_type": "code",
   "execution_count": null,
   "id": "239f918b-adbf-4225-9c60-09e58ca84252",
   "metadata": {},
   "outputs": [],
   "source": [
    "writer.close()"
   ]
  },
  {
   "cell_type": "markdown",
   "id": "49ebbc10-daaa-422b-8979-2de90cbab67b",
   "metadata": {},
   "source": [
    "### View Tensorboard Outputs"
   ]
  },
  {
   "cell_type": "code",
   "execution_count": null,
   "id": "9ccacee1-b745-4963-85cd-8d4f96966673",
   "metadata": {},
   "outputs": [],
   "source": [
    "%load_ext tensorboard"
   ]
  },
  {
   "cell_type": "code",
   "execution_count": null,
   "id": "991902b5-56f6-478b-aac2-3e6eb3b0c83c",
   "metadata": {},
   "outputs": [],
   "source": [
    "%tensorboard --logdir runs/"
   ]
  },
  {
   "cell_type": "code",
   "execution_count": null,
   "id": "80fa3a77-7f6c-4896-b563-0758c30ad221",
   "metadata": {},
   "outputs": [],
   "source": []
  }
 ],
 "metadata": {
  "kernelspec": {
   "display_name": "Python 3",
   "language": "python",
   "name": "python3"
  },
  "language_info": {
   "codemirror_mode": {
    "name": "ipython",
    "version": 3
   },
   "file_extension": ".py",
   "mimetype": "text/x-python",
   "name": "python",
   "nbconvert_exporter": "python",
   "pygments_lexer": "ipython3",
   "version": "3.9.2"
  }
 },
 "nbformat": 4,
 "nbformat_minor": 5
}
